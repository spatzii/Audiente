{
 "cells": [
  {
   "cell_type": "code",
   "execution_count": 1,
   "outputs": [],
   "source": [
    "import pandas as pd\n",
    "import pathlib\n",
    "import numpy as np"
   ],
   "metadata": {
    "collapsed": false
   }
  },
  {
   "cell_type": "code",
   "execution_count": 24,
   "outputs": [],
   "source": [
    "minut = pd.read_excel('/Users/stefanpana/PycharmProjects/Audiente/Digi 24-audiente zilnice la minut 2023-02-24.xlsx', sheet_name=3, skiprows=[0, 1, 1143]).set_index('Timebands').loc[:, ['TTV.1', 'Digi 24.1',\n",
    "                                                                                              'Antena 3 CNN.1',\n",
    "                                                                                              'B1TV.1', 'EuroNews.1',\n",
    "                                                                                              'Realitatea Plus.1',\n",
    "                                                                                              'Romania TV.1']]\n",
    "\n",
    "sfert = pd.read_excel('/Users/stefanpana/PycharmProjects/Audiente/Digi 24-audiente zilnice 2023-02-24.xlsx', sheet_name=1, skiprows=[0, 1, 1143]).set_index('Timebands').loc[:, ['TTV.1', 'Digi 24.1',\n",
    "                                                                                              'Antena 3 CNN.1',\n",
    "                                                                                              'B1TV.1', 'EuroNews.1',\n",
    "                                                                                              'Realitatea Plus.1',\n",
    "                                                                                              'Romania TV.1']]\n"
   ],
   "metadata": {
    "collapsed": false
   }
  },
  {
   "cell_type": "code",
   "execution_count": 25,
   "outputs": [],
   "source": [
    "minut.columns = minut.columns.str.replace('.1', '', regex=False)\n",
    "sfert.columns = sfert.columns.str.replace('.1', '', regex=False)\n",
    "for x in sfert.index:\n",
    "    if \">>>\" in x:\n",
    "        sfert.drop(x, inplace=True)"
   ],
   "metadata": {
    "collapsed": false
   }
  },
  {
   "cell_type": "code",
   "execution_count": 26,
   "outputs": [],
   "source": [
    "pd.concat([minut, sfert]).to_csv('concated.csv')"
   ],
   "metadata": {
    "collapsed": false
   }
  },
  {
   "cell_type": "code",
   "execution_count": 5,
   "outputs": [],
   "source": [
    "stirile_zilei = pd.read_csv('concated.csv', index_col=[0]).loc['16:00':'18:59', :]"
   ],
   "metadata": {
    "collapsed": false
   }
  },
  {
   "cell_type": "code",
   "execution_count": 6,
   "outputs": [
    {
     "data": {
      "text/plain": "TTV                16.07\nDigi 24             0.56\nAntena 3 CNN        0.84\nB1TV                0.07\nEuroNews            0.02\nRealitatea Plus     0.26\nRomania TV          0.51\ndtype: float64"
     },
     "execution_count": 6,
     "metadata": {},
     "output_type": "execute_result"
    }
   ],
   "source": [
    "np.around(stirile_zilei.mean(), 2)"
   ],
   "metadata": {
    "collapsed": false
   }
  },
  {
   "cell_type": "code",
   "execution_count": 208,
   "outputs": [
    {
     "data": {
      "text/plain": "TTV                12.17\nDigi 24             0.44\nAntena 3 CNN        0.84\nB1TV                0.00\nEuroNews            0.00\nRealitatea Plus     0.19\nRomania TV          0.43\ndtype: float64"
     },
     "execution_count": 208,
     "metadata": {},
     "output_type": "execute_result"
    }
   ],
   "source": [
    "np.around(stirile_zilei.loc['16:00':'16:14'].mean(), 2)"
   ],
   "metadata": {
    "collapsed": false
   }
  },
  {
   "cell_type": "code",
   "execution_count": 3,
   "outputs": [
    {
     "name": "stdout",
     "output_type": "stream",
     "text": [
      "1\n",
      "2\n",
      "3\n",
      "4\n",
      "5\n",
      "6\n",
      "7\n",
      "8\n",
      "9\n",
      "10\n",
      "11\n",
      "12\n",
      "13\n",
      "14\n"
     ]
    }
   ],
   "source": [
    "for x in range(1,15):\n",
    "    print(x)"
   ],
   "metadata": {
    "collapsed": false
   }
  },
  {
   "cell_type": "code",
   "execution_count": null,
   "outputs": [],
   "source": [],
   "metadata": {
    "collapsed": false
   }
  }
 ],
 "metadata": {
  "kernelspec": {
   "display_name": "Python 3 (ipykernel)",
   "language": "python",
   "name": "python3"
  },
  "language_info": {
   "codemirror_mode": {
    "name": "ipython",
    "version": 3
   },
   "file_extension": ".py",
   "mimetype": "text/x-python",
   "name": "python",
   "nbconvert_exporter": "python",
   "pygments_lexer": "ipython3",
   "version": "3.10.10"
  }
 },
 "nbformat": 4,
 "nbformat_minor": 5
}
